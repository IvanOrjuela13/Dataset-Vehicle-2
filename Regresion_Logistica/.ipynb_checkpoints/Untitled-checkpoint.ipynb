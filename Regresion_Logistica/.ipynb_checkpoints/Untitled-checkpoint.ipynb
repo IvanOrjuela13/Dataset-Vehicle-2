{
 "cells": [
  {
   "cell_type": "markdown",
   "id": "b6bfd882-6b56-4f68-9df0-aee4deb32f22",
   "metadata": {},
   "source": [
    "**Regresion_Logistica**"
   ]
  },
  {
   "cell_type": "code",
   "execution_count": null,
   "id": "4223435c-ed09-431d-9af4-6f60115943b3",
   "metadata": {},
   "outputs": [],
   "source": [
    "import numpy as np\n",
    "import pandas as pd\n",
    "import matplotlib.pyplot as plt\n",
    "from sklearn.model_selection import train_test_split\n",
    "from sklearn.linear_model import LogisticRegression\n",
    "from sklearn.metrics import accuracy_score\n",
    "\n",
    "# Cargar los datos\n",
    "data = pd.read_csv('CAR DETAILS FROM CAR DEKHO.csv')\n",
    "\n",
    "# Explorar los datos\n",
    "print(data.head())\n",
    "\n",
    "# Dividir los datos en características (X) y etiquetas (y)\n",
    "X = data[['Year', 'Kms_Driven']]\n",
    "y = data['Selling_Price']\n",
    "\n",
    "# Convertir y en una variable binaria\n",
    "# Por ejemplo, si el precio de venta es mayor que cierto valor, será 1, de lo contrario, 0\n",
    "threshold = 5  # Define un valor umbral\n",
    "y_binary = (y > threshold).astype(int)\n",
    "\n",
    "# Dividir los datos en conjuntos de entrenamiento y prueba\n",
    "X_train, X_test, y_train, y_test = train_test_split(X, y_binary, test_size=0.2, random_state=42)\n",
    "\n",
    "# Crear el modelo de regresión logística\n",
    "model = LogisticRegression()\n",
    "\n",
    "# Entrenar el modelo\n",
    "model.fit(X_train, y_train)\n",
    "\n",
    "# Hacer predicciones\n",
    "y_pred = model.predict(X_test)\n",
    "\n",
    "# Evaluar el modelo\n",
    "accuracy = accuracy_score(y_test, y_pred)\n",
    "\n",
    "print('Accuracy:', accuracy)"
   ]
  }
 ],
 "metadata": {
  "kernelspec": {
   "display_name": "Python 3 (ipykernel)",
   "language": "python",
   "name": "python3"
  },
  "language_info": {
   "codemirror_mode": {
    "name": "ipython",
    "version": 3
   },
   "file_extension": ".py",
   "mimetype": "text/x-python",
   "name": "python",
   "nbconvert_exporter": "python",
   "pygments_lexer": "ipython3",
   "version": "3.11.7"
  }
 },
 "nbformat": 4,
 "nbformat_minor": 5
}
